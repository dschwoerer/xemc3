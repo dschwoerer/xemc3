{
 "cells": [
  {
   "cell_type": "code",
   "execution_count": null,
   "metadata": {},
   "outputs": [],
   "source": [
    "import xarray as xr\n",
    "import numpy as np\n",
    "from matplotlib import pyplot as plt\n",
    "import xemc3"
   ]
  },
  {
   "cell_type": "markdown",
   "metadata": {},
   "source": [
    "# Quick introduction to xarray\n",
    "\n",
    "This is just to get a quick introduction of the structure of the xarray data type.\n",
    "\n",
    "In the cell below we generate a xarray with dimensions $(3,3)$ for variable $x$ with coordinates $(10,20)$ and $y$ with coordinates $(1,2,3)$."
   ]
  },
  {
   "cell_type": "code",
   "execution_count": null,
   "metadata": {},
   "outputs": [],
   "source": [
    "data = xr.DataArray(np.random.rand(2, 3), dims=(\"x\", \"y\"), coords={\"x\": [10, 20], \"y\": [1, 2, 3]})\n",
    "data"
   ]
  },
  {
   "cell_type": "markdown",
   "metadata": {},
   "source": [
    "### data.values\n",
    "\n",
    "Returns the wrapped numpy array, in this case the return value of `np.random.rand(2, 3)`"
   ]
  },
  {
   "cell_type": "code",
   "execution_count": null,
   "metadata": {},
   "outputs": [],
   "source": [
    "data.values"
   ]
  },
  {
   "cell_type": "markdown",
   "metadata": {},
   "source": [
    "### data.dims\n",
    "\n",
    "Returns the name of the dimensions."
   ]
  },
  {
   "cell_type": "code",
   "execution_count": null,
   "metadata": {},
   "outputs": [],
   "source": [
    "data.dims"
   ]
  },
  {
   "cell_type": "markdown",
   "metadata": {},
   "source": [
    "### data.coords\n",
    "Returns the coordinates for all axis directions with coordinate names and datatype of the coordinates."
   ]
  },
  {
   "cell_type": "code",
   "execution_count": null,
   "metadata": {},
   "outputs": [],
   "source": [
    "data.coords"
   ]
  },
  {
   "cell_type": "markdown",
   "metadata": {},
   "source": [
    "### data.attrs\n",
    "\n",
    "Returns other attributes in form of a dictionary with you can easily add by generating a new value associated with a new key."
   ]
  },
  {
   "cell_type": "code",
   "execution_count": null,
   "metadata": {},
   "outputs": [],
   "source": [
    "data.attrs[\"key\"] = \"value\"\n",
    "data.attrs"
   ]
  },
  {
   "cell_type": "markdown",
   "metadata": {},
   "source": [
    "### More on xarray:\n",
    "* [Documentation](https://xarray.pydata.org/en/stable/index.html)\n",
    "* [Tutorials](https://xarray-contrib.github.io/xarray-tutorial/index.html)"
   ]
  },
  {
   "cell_type": "markdown",
   "metadata": {},
   "source": [
    "# EMC3 data\n",
    "\n",
    "The prerequisite for this example to work is to have downloaded the file emc3_example.nc and have the libraries specified in this script installed in your enviroment. We recommend using netCDF4 for opening .nc files. The emc3_example.nc can be found and downloaded here: https://gitlab.mpcdf.mpg.de/dave/xemc3-data given that you have acces.\n",
    "\n",
    "The path specified in the string in the cell below is where you have stored the emc3_example.nc locally on your computer."
   ]
  },
  {
   "cell_type": "code",
   "execution_count": null,
   "metadata": {},
   "outputs": [],
   "source": [
    "import xemc3\n",
    "local = r\"C:\\Users\\joag\\Documents\\Notebooks\"\n",
    "path = local + r\"\\emc3_example.nc\"\n",
    "ds = xr.open_dataset(path)\n",
    "ds"
   ]
  },
  {
   "cell_type": "markdown",
   "metadata": {},
   "source": [
    "## dataset (ds) explanation\n",
    "\n",
    "When running the codeline ds on the last line of a cell you get an overview of what the xarray object consist of.\n",
    "\n",
    "### ds.coords['R_bounds']\n",
    "\n",
    "R_bounds represents the coordinates of the vertices at the gridcells in the radial direction in the $xy$-plane. Here $R = \\sqrt{x^2 + y^2}$.\n",
    "\n",
    "### ds.coords['z_bounds']\n",
    "z_bounds represents the coordinates of the vertices of the gridcells in the $z$-direction.\n",
    "\n",
    "### ds.coords['phi_bounds']\n",
    "phi_bounds represents the coordinates of the vertices of the gridcells in the $\\phi$-direction."
   ]
  },
  {
   "cell_type": "code",
   "execution_count": null,
   "metadata": {
    "scrolled": true
   },
   "outputs": [],
   "source": [
    "ds.coords['R_bounds'].shape"
   ]
  },
  {
   "cell_type": "code",
   "execution_count": null,
   "metadata": {},
   "outputs": [],
   "source": [
    "ds.coords['z_bounds']"
   ]
  },
  {
   "cell_type": "markdown",
   "metadata": {},
   "source": [
    "### Toroidal slice\n",
    "A toroidal slice is defined as the grid of $(R,z)$-values at a fixed angle $\\phi$. The values of the $\\phi$-angles used in the W7X grid can be found in the paragraph below and demonstrated in the next cell.\n",
    "\n",
    "### ds.coords['phi_bounds']\n",
    "Running the cell below gives you an array of the $\\phi$ angles."
   ]
  },
  {
   "cell_type": "code",
   "execution_count": null,
   "metadata": {},
   "outputs": [],
   "source": [
    "ds.coords['phi_bounds']"
   ]
  },
  {
   "cell_type": "markdown",
   "metadata": {},
   "source": [
    "## ds.emc3.plot_Rz(key, phi = $\\phi$)\n",
    "\n",
    "The key is given as a string, None is passed as a key if you want to plot the mesh. An example is the angle phi $= \\phi$ which is the angle given in radians as floats. \n",
    "\n",
    "For this particular example(.nc file) the floats of the angle $\\phi$ can be found in the dictionary defined by ds.coords['phi_bounds'] which has 2 dimensions; one for either side of the cell for a given angle $\\phi$. There are 36 different values for $\\phi$ since the reactor has a five-fold symmetry which is divided in two up-down symmetric parts: $2\\cdot 5\\cdot 36 = 360^{\\circ}$.\n",
    "\n",
    "In the cells below are some examples of the parameter electron temperature $T_e$ plotted in toroidal slices for phi index $n_{\\phi} = [0,18,35]$."
   ]
  },
  {
   "cell_type": "code",
   "execution_count": null,
   "metadata": {},
   "outputs": [],
   "source": [
    "# the parameter can be plotted by a one-liner\n",
    "ds.emc3.plot_Rz(\"Te\", phi=ds.coords['phi_bounds'][0][0])"
   ]
  },
  {
   "cell_type": "code",
   "execution_count": null,
   "metadata": {},
   "outputs": [],
   "source": [
    "# for several angles and control\n",
    "import ipywidgets as widgets\n",
    "from ipywidgets import interact, interactive, fixed, interact_manual\n",
    "def plot_Te(ip):\n",
    "    plt.figure(figsize=(20,10))\n",
    "    ds.emc3.plot_Rz(\"Te\", phi=ip*2*np.pi/360)\n",
    "ip = widgets.FloatSlider(min = 0, max = 36, value = 0)\n",
    "interact(plot_Te, ip = ip)"
   ]
  },
  {
   "cell_type": "markdown",
   "metadata": {},
   "source": [
    "## Preprocessing of gridstructure\n",
    "\n",
    "The parametervalues are well defined in each gridcell, bat the center or the mean of the vertices of the gridcell: $\\mathbf{r}_{param} = \\langle \\mathbf{r}_{vertex} \\rangle$. A simplified analogy is the centerpoint of a 3D cube.\n",
    "\n",
    "Specifying the dimensions of the mean coordinates by giving ds.direction_bounds.mean(arg) the argument dim=(\"delta_r\", \"delta_theta\", \"delta_phi\") you give the mean secify that the mean coordinates the same number of dimensions per axis as the number of cells in each axial direction. "
   ]
  },
  {
   "cell_type": "code",
   "execution_count": null,
   "metadata": {},
   "outputs": [],
   "source": [
    "R = ds.R_bounds.mean(dim=(\"delta_r\", \"delta_theta\", \"delta_phi\"))\n",
    "z = ds.z_bounds.mean(dim=(\"delta_r\", \"delta_theta\", \"delta_phi\"))\n",
    "phi = ds.phi_bounds.mean(dim=\"delta_phi\")\n",
    "x = R * np.cos(phi)\n",
    "y = R * np.sin(phi)\n",
    "x, ds.Te"
   ]
  },
  {
   "cell_type": "markdown",
   "metadata": {},
   "source": [
    "## Use of NaN values in the mesh\n",
    "\n",
    "Not all gridcells have a defined parameter value attached to it. This is mostly the outer and inner region of the machine where the values of many parameter has been left out because this is not the regions where the interesting physics happen.\n",
    "This is illustrated in the above plot example of the electron temperature $T_e$. In the cell below you can se how large a fraction of the total number of gridpoints the mesh for the electron temperature that has NaN as a value."
   ]
  },
  {
   "cell_type": "code",
   "execution_count": null,
   "metadata": {},
   "outputs": [],
   "source": [
    "n_nans_Te = np.sum(np.isnan(np.asarray(ds.Te)))\n",
    "print(\"How many nans in Te field? \", n_nans_Te )\n",
    "print(\"Fraction of nans with respect to gridcells \", n_nans_Te/(ds.Te.shape[0]*ds.Te.shape[1]*ds.Te.shape[2]))"
   ]
  },
  {
   "cell_type": "markdown",
   "metadata": {},
   "source": [
    "## Grid\n",
    "\n",
    "In the cell below there is an interactive plot of the grid. You can use the slider to iterate through all toroidal slices(all $\\phi$ angles)."
   ]
  },
  {
   "cell_type": "code",
   "execution_count": null,
   "metadata": {},
   "outputs": [],
   "source": [
    "import ipywidgets as widgets\n",
    "from ipywidgets import interact, interactive, fixed, interact_manual\n",
    "def plot_emc3grid(ip):\n",
    "    plt.figure(figsize=(15,15))\n",
    "    ds.emc3.plot_Rz(None, phi=ip)\n",
    "ip = widgets.FloatSlider(min = 0, max = np.pi/5, value = 0)\n",
    "interact(plot_emc3grid, ip = ip)"
   ]
  },
  {
   "cell_type": "markdown",
   "metadata": {},
   "source": [
    "## Grid with boundaries\n",
    "\n",
    "Interactive plot of the grid, here you can use the ipywidget slider to iterate through all toroidal slices,\n",
    "the rmin and rmax to set the boundaries in r direction, and the zmin and zmax to set the boundaries in z direction."
   ]
  },
  {
   "cell_type": "code",
   "execution_count": null,
   "metadata": {
    "scrolled": false
   },
   "outputs": [],
   "source": [
    "# find boundaries of the grid\n",
    "rmin = ds.R_bounds.min()\n",
    "rmax = ds.R_bounds.max()\n",
    "zmin = ds.z_bounds.min()\n",
    "zmax = ds.z_bounds.max()\n",
    "\n",
    "import ipywidgets as widgets\n",
    "from ipywidgets import interact, interactive, fixed, interact_manual\n",
    "def plot_emc3grid(ip, ir, iz):\n",
    "    plt.figure(figsize=(10,10))\n",
    "    ds.emc3.plot_Rz('Te', phi=ds.coords['phi_bounds'][ip][0], Rmin = ir[0], Rmax = ir[1], zmin = iz[0], zmax = iz[1])\n",
    "ip = widgets.IntSlider(min = 0, max = 35, value = 0)\n",
    "r_slider = widgets.FloatRangeSlider(min = rmin, max = rmax, value = [rmin,rmin+1], readout_format='.9f')\n",
    "z_slider = widgets.FloatRangeSlider(min = zmin, max = zmax, value = [zmin,zmin+1], readout_format='.9f')\n",
    "interact(plot_emc3grid, ip = ip, ir = r_slider, iz = z_slider)"
   ]
  },
  {
   "cell_type": "markdown",
   "metadata": {},
   "source": [
    "## Periodic boundary conditions for plotting\n",
    "\n",
    "Naturally the data does not have periodic boundary conditions, which means that the last dataframe would be equal to the first. In the case of emc3 data the periodicity is in the theta direction. For plotting the dimension of the theta grid is increased by one and set to the first values in the theta direction. This is for tha plot to \"complete the orbit\" in the theta direction for it to be closed. In the cell below the case without periodic boundary conditions is illustrated."
   ]
  },
  {
   "cell_type": "code",
   "execution_count": null,
   "metadata": {},
   "outputs": [],
   "source": [
    "def plot_Te_zoomed(ip):\n",
    "    fig = plt.figure(figsize = (20,10))\n",
    "    ax = fig.add_subplot()\n",
    "    c = plt.pcolormesh(ds.emc3['R_corners'][:, :,ip],\n",
    "                       ds.emc3['z_corners'][:, :,ip],\n",
    "                       ds.Te[:, :,ip], cmap = plt.cm.jet, shading = 'auto')\n",
    "    plt.colorbar(c)\n",
    "phislider = widgets.IntSlider(min = 0, max = 35)\n",
    "interact(plot_Te_zoomed, ip = phislider)"
   ]
  }
 ],
 "metadata": {
  "kernelspec": {
   "display_name": "Python 3",
   "language": "python",
   "name": "python3"
  },
  "language_info": {
   "codemirror_mode": {
    "name": "ipython",
    "version": 3
   },
   "file_extension": ".py",
   "mimetype": "text/x-python",
   "name": "python",
   "nbconvert_exporter": "python",
   "pygments_lexer": "ipython3",
   "version": "3.9.6"
  }
 },
 "nbformat": 4,
 "nbformat_minor": 5
}
