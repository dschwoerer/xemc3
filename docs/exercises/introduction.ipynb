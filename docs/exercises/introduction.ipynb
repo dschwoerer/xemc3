{
 "cells": [
  {
   "cell_type": "markdown",
   "metadata": {},
   "source": [
    "# Some exercises\n",
    "\n",
    "None of the task should be particular difficult to achieve. The solutions are hidden - you can see them when you edit the cells, between `<!--` and `-->` is the solution. If you are having somewhere troubles and ideas how to improve the documentation, I would love to hear from you ❤️"
   ]
  },
  {
   "cell_type": "code",
   "execution_count": null,
   "metadata": {},
   "outputs": [],
   "source": [
    "# Interactive plotting in the notebook :-)\n",
    "%matplotlib notebook"
   ]
  },
  {
   "cell_type": "code",
   "execution_count": null,
   "metadata": {},
   "outputs": [],
   "source": [
    "# Ensure the example data is present\n",
    "# If you use your own data for this exercise you don't need this step\n",
    "from get_data import load_example_data\n",
    "_ = load_example_data()"
   ]
  },
  {
   "cell_type": "markdown",
   "metadata": {},
   "source": [
    "## Reading in data\n",
    "\n",
    "Assuming you have some converged simulation, the first step is typically to read in the data.\n",
    "\n",
    "Try to read in your simulations.\n",
    "\n"
   ]
  },
  {
   "cell_type": "markdown",
   "metadata": {},
   "source": [
    "Solution (double click me to see)\n",
    "\n",
    "<!--\n",
    "import xemc3\n",
    "\n",
    "ds = xemc3.load.all(\"path/to/simulation\")\n",
    "\n",
    "# Remember to link the file so that EMC3-EIRENE can find the files!\n",
    "-->"
   ]
  },
  {
   "cell_type": "code",
   "execution_count": null,
   "metadata": {},
   "outputs": [],
   "source": [
    "# Put your code here\n",
    "\n"
   ]
  },
  {
   "cell_type": "markdown",
   "metadata": {},
   "source": [
    "## Writing data\n",
    "\n",
    "After we have loaded the data, we want to store it as netcdf so that later on we can read it fast."
   ]
  },
  {
   "cell_type": "markdown",
   "metadata": {},
   "source": [
    "Solution (double click me to see)\n",
    "\n",
    "<!--\n",
    "# Of course you can also choose any other name ...\n",
    "\n",
    "ds.to_netcdf(\"run01.nc\")\n",
    "-->"
   ]
  },
  {
   "cell_type": "code",
   "execution_count": null,
   "metadata": {},
   "outputs": [],
   "source": [
    "# Put your code here\n",
    "\n"
   ]
  },
  {
   "cell_type": "markdown",
   "metadata": {},
   "source": [
    "## Read the netcdf file\n",
    "\n",
    "We already have the data in memory. But for training (and also to reduce memory usage) we can reread the data from the netcdf file."
   ]
  },
  {
   "cell_type": "markdown",
   "metadata": {},
   "source": [
    "Solution (double click me to see)\n",
    "\n",
    "<!--\n",
    "import xarray as xr\n",
    "ds = xr.open_dataset(\"run01.nc\")\n",
    "-->"
   ]
  },
  {
   "cell_type": "code",
   "execution_count": null,
   "metadata": {},
   "outputs": [],
   "source": [
    "# Put your code here\n",
    "\n"
   ]
  },
  {
   "cell_type": "markdown",
   "metadata": {},
   "source": [
    "## List what is in the output\n",
    "\n",
    "xarray can list all the variables in a dataset. It is especially easy in a notebook."
   ]
  },
  {
   "cell_type": "markdown",
   "metadata": {},
   "source": [
    "Solution (double click me to see)\n",
    "\n",
    "<!--\n",
    "# You can just print the dataset to get the variables:\n",
    "print(ds)\n",
    "# If the last statement in a notebook cell returns (or is)\n",
    "# a dataset, you can look at the output:\n",
    "ds\n",
    "-->"
   ]
  },
  {
   "cell_type": "code",
   "execution_count": null,
   "metadata": {
    "scrolled": true
   },
   "outputs": [],
   "source": [
    "# Put your code here\n",
    "\n"
   ]
  },
  {
   "cell_type": "markdown",
   "metadata": {},
   "source": [
    "## plot the hydrogen density at phi=0\n",
    "\n",
    "Plot the atomic hydrogen density in lab coordinates at the phi=0 cross-section. The (atomic) hydrogen density is stored in the key \"nH\".\n",
    "\n",
    "Make sure to include units and labels."
   ]
  },
  {
   "cell_type": "markdown",
   "metadata": {},
   "source": [
    "Solution (double click me to see)\n",
    "\n",
    "<!--\n",
    "plt.figure()\n",
    "# We can use the xemc3 dataset accesor:\n",
    "ds.emc3.plot_rz(\"nH\", phi=0)\n",
    "# Units and labels are included in the dataset\n",
    "# and thus also included in the plot automatically.\n",
    "-->"
   ]
  },
  {
   "cell_type": "code",
   "execution_count": null,
   "metadata": {
    "scrolled": false
   },
   "outputs": [],
   "source": [
    "# Put your code here\n",
    "\n"
   ]
  },
  {
   "cell_type": "markdown",
   "metadata": {},
   "source": [
    "## Plot the ion pressure\n",
    "\n",
    "The ion pressure is the product of ion temperature (`Ti`) and electron density (`ne`)."
   ]
  },
  {
   "cell_type": "markdown",
   "metadata": {},
   "source": [
    "Solution (double click me to see)\n",
    "\n",
    "<!--\n",
    "# We can use either ds.Ti or ds[\"Ti\"], they are equivalent.\n",
    "ds[\"Pi\"] = ds.Ti * ds.ne\n",
    "# Unfortunately units aren't presserved (to be fixed)\n",
    "ds[\"Pi\"].attrs = dict(long_name=\"Ion pressure\", units=\"eV m^{-3}\")\n",
    "plt.figure()\n",
    "ds.emc3.plot_rz(\"Pi\", phi=0)\n",
    "-->"
   ]
  },
  {
   "cell_type": "code",
   "execution_count": null,
   "metadata": {
    "scrolled": true
   },
   "outputs": [],
   "source": [
    "# Put your code here\n",
    "\n"
   ]
  },
  {
   "cell_type": "markdown",
   "metadata": {},
   "source": [
    "## Plotting in simulation coordinates\n",
    "\n",
    "Try to plot density on the 10th radial slice, counting from the outside.\n",
    "\n",
    "You should be able to where the divertor is, as there is no plasma. You can also see that parallel-connected regions feature a low density."
   ]
  },
  {
   "cell_type": "markdown",
   "metadata": {},
   "source": [
    "Solution (double click me to see)\n",
    "\n",
    "<!--\n",
    "plt.figure()\n",
    "ds.isel(r=-10).ne.plot()\n",
    "-->"
   ]
  },
  {
   "cell_type": "code",
   "execution_count": null,
   "metadata": {
    "scrolled": false
   },
   "outputs": [],
   "source": [
    "# Put your code here\n",
    "\n"
   ]
  },
  {
   "cell_type": "markdown",
   "metadata": {},
   "source": [
    "## parallel variation\n",
    "\n",
    "xarray [wraps](https://xarray.pydata.org/en/stable/generated/xarray.DataArray.mean.html) [many](https://xarray.pydata.org/en/stable/generated/xarray.DataArray.std.html) [numpy](https://xarray.pydata.org/en/stable/generated/xarray.DataArray.max.html#xarray.DataArray.max) [operators](https://xarray.pydata.org/en/stable/generated/xarray.DataArray.argmax.html#xarray.DataArray.argmax). Have a look at the strength of the parallel variation with respect to the average."
   ]
  },
  {
   "cell_type": "markdown",
   "metadata": {},
   "source": [
    "Solution (double click me to see)\n",
    "\n",
    "<!--\n",
    "variation = ds.ne.std(dim='phi')/ ds.ne.mean(dim='phi')\n",
    "plt.figure()\n",
    "variation.plot()\n",
    "-->"
   ]
  },
  {
   "cell_type": "code",
   "execution_count": null,
   "metadata": {
    "scrolled": false
   },
   "outputs": [],
   "source": [
    "# Put your code here\n",
    "\n"
   ]
  },
  {
   "cell_type": "markdown",
   "metadata": {},
   "source": [
    "## Difference between two simulations\n",
    "\n",
    "If we have run different simulations, the results often look similar, and we want to know what did change.\n",
    "\n",
    "As long as the same geometry is used, that is fairly simple with xemc3. Try to plot the difference between the densities of two simulations. (Of course you need to have a second simulation)"
   ]
  },
  {
   "cell_type": "markdown",
   "metadata": {},
   "source": [
    "Solution (double click me to see)\n",
    "\n",
    "<!--\n",
    "# open netcdf file\n",
    "ds2 = xr.open_dataset(\"other_run.nc\")\n",
    "# or read in the simulation\n",
    "ds2 = xemc3.load.all(\"other_run/\")\n",
    "# Take the difference between the densities\n",
    "diff = ds2.ne - ds.ne\n",
    "# And now you can do what ever you are insterested in, e.g. plotting\n",
    "diff.isel(phi=0).plot()\n",
    "-->"
   ]
  },
  {
   "cell_type": "code",
   "execution_count": null,
   "metadata": {
    "scrolled": true
   },
   "outputs": [],
   "source": [
    "# Put your code here\n",
    "\n"
   ]
  }
 ],
 "metadata": {
  "kernelspec": {
   "display_name": "Python 3",
   "language": "python",
   "name": "python3"
  },
  "language_info": {
   "codemirror_mode": {
    "name": "ipython",
    "version": 3
   },
   "file_extension": ".py",
   "mimetype": "text/x-python",
   "name": "python",
   "nbconvert_exporter": "python",
   "pygments_lexer": "ipython3",
   "version": "3.9.6"
  }
 },
 "nbformat": 4,
 "nbformat_minor": 4
}
