{
 "cells": [
  {
   "cell_type": "code",
   "execution_count": null,
   "metadata": {},
   "outputs": [],
   "source": [
    "import numpy as np\n",
    "import pandas as pd\n",
    "import xarray as xr\n",
    "import netCDF4\n",
    "import numpy as np\n",
    "from matplotlib import pyplot as plt"
   ]
  },
  {
   "cell_type": "markdown",
   "metadata": {},
   "source": [
    "# Introduction xarrays\n",
    "\n",
    "This is just to get a quick introductino on the structure of the xarray data type.\n",
    "\n",
    "In the cell below we generate a xarray with dimensions $(3,3)$ for variable $x$ with coordinates $(10,20)$ and $y$ with coordinates $(1,2,3)$.\n",
    "\n",
    "### data.values\n",
    "\n",
    "Returns the np.random.randn(2, 3) values you defined when generating the xarray.\n",
    "\n",
    "### data.dims\n",
    "\n",
    "Returns the name of the dimensions.\n",
    "\n",
    "### data.coords\n",
    "Returns the coordinates for all axis directions with coordinate names and datatype of the coordinates.\n",
    "\n",
    "### data.attrs\n",
    "\n",
    "Returns other attributes in form of a dictionary with you can easily add by generating a new value associated with a new key."
   ]
  },
  {
   "cell_type": "code",
   "execution_count": null,
   "metadata": {},
   "outputs": [],
   "source": [
    "data = xr.DataArray(np.random.randn(2, 3), dims=(\"x\", \"y\"), coords={\"x\": [10, 20], \"y\": [1, 2,3]})\n",
    "data\n",
    "# data.values\n",
    "# data.dims\n",
    "# data.coords\n",
    "# data.attrs[\"key\"] = \"value\"\n",
    "# data.attrs"
   ]
  },
  {
   "cell_type": "markdown",
   "metadata": {},
   "source": [
    "### Additional example\n",
    "\n",
    "The below cell is an additional example just to show that all datatypes can be used when generating/creating the xarrays.\n",
    "\n",
    "### For more: documentation html:\n",
    "http://xarray.pydata.org/en/stable/index.html"
   ]
  },
  {
   "cell_type": "code",
   "execution_count": null,
   "metadata": {},
   "outputs": [],
   "source": [
    "xr.DataArray(pd.Series(range(3), index=list(\"abc\"), name=\"foo\"))"
   ]
  },
  {
   "cell_type": "markdown",
   "metadata": {},
   "source": [
    "# EMC3 data\n",
    "\n",
    "The prerequisite for this example to work is to have downloaded the file emc3_example.nc and have the libraries specified in this script installed in your enviroment. The emc3_example.nc can be found and downloaded here: https://gitlab.mpcdf.mpg.de/dave/xemc3-data given that you have acces.\n",
    "\n",
    "The path specified in the string in the cell below is where you have stored the emc3_example.nc locally on your computer."
   ]
  },
  {
   "cell_type": "code",
   "execution_count": null,
   "metadata": {},
   "outputs": [],
   "source": [
    "import xemc3\n",
    "import xarray as xr\n",
    "path = r\"C:\\Users\\joag\\Documents\\Notebooks\\emc3_example.nc\"\n",
    "ds = xr.open_dataset(path)\n",
    "ds"
   ]
  },
  {
   "cell_type": "markdown",
   "metadata": {},
   "source": [
    "## dataset (ds) explanation\n",
    "\n",
    "When running the codeline ds you get an overview of what the xarray object consist of.\n",
    "\n",
    "### ds.coords['R_bounds']\n",
    "\n",
    "R_bounds represents the coordinates of the vertices at the gridcells in the radial direction in the $xy$-plane. Here $r = \\sqrt{x^2 + y^2}$.\n",
    "\n",
    "### ds.coords['z_bounds']\n",
    "z_bounds represents the coordinates of the vertices of the gridcells in the $z$-direction."
   ]
  },
  {
   "cell_type": "code",
   "execution_count": null,
   "metadata": {
    "scrolled": true
   },
   "outputs": [],
   "source": [
    "ds.coords['R_bounds']"
   ]
  },
  {
   "cell_type": "code",
   "execution_count": null,
   "metadata": {},
   "outputs": [],
   "source": [
    "ds.coords['z_bounds']"
   ]
  },
  {
   "cell_type": "markdown",
   "metadata": {},
   "source": [
    "### Toroidal slice\n",
    "A toroidal slice is defined as the grid of $(r,z)$-values at a fixed angle $\\phi$. The values of the $\\phi$-angles used in the W7X grid can be found in the paragraph below and demonstrated in the next cell.\n",
    "\n",
    "### ds.coords['phi_bounds']\n",
    "Running the cell below gives you an array of the $\\phi$ angles."
   ]
  },
  {
   "cell_type": "code",
   "execution_count": null,
   "metadata": {},
   "outputs": [],
   "source": [
    "ds.coords['phi_bounds']"
   ]
  },
  {
   "cell_type": "markdown",
   "metadata": {},
   "source": [
    "## ds.emc3.plot_Rz(parameter, phi = $\\phi$)\n",
    "\n",
    "The parameter is given as a string, and the valid parameters is the same as the measurements that is possible to do in W7X. The angle phi $= \\phi$ is the angle given in radians as floats. \n",
    "\n",
    "The floats of the angle $\\phi$ can be found in the dictionary defined by ds.coords['phi_bounds'] which has 2 dimensions; one for the actual angles $\\phi$, and another for the change in angle $d\\phi$. There are 36 different values for $\\phi$ since the reactor has a five-fold symmetry: $5\\cdot 36 = 180^{\\circ}$.\n",
    "\n",
    "In the cells below are some examples of the parameter electron temperature $T_e$ plotted in toroidal slices for phi index $n_{\\phi} = [0,18,35]$."
   ]
  },
  {
   "cell_type": "code",
   "execution_count": null,
   "metadata": {},
   "outputs": [],
   "source": [
    "import ipywidgets as widgets\n",
    "from ipywidgets import interact, interactive, fixed, interact_manual\n",
    "def plot_Te(iy):\n",
    "    plt.figure(figsize=(20,10))\n",
    "    ds.emc3.plot_Rz(\"Te\", phi=ds.coords['phi_bounds'][iy][0])\n",
    "iy = widgets.IntSlider(min = 0, max = 35, value = 0)\n",
    "interact(plot_Te, iy = iy)"
   ]
  },
  {
   "cell_type": "markdown",
   "metadata": {},
   "source": [
    "## Preprocessing of gridstructure\n",
    "\n",
    "The parametervalues are not well defined in each gridcell, but rather at the center or the mean of the vertices of the gridcell: $\\mathbf{r}_{param} = \\langle \\mathbf{r}_{vertex} \\rangle$. A simplified analogy is the centerpoint of a 3D cube.\n",
    "\n",
    "Specifying the dimensions of the mean coordinates by giving ds.direction_bounds.mean(arg) the argument dim=(\"delta_r\", \"delta_theta\", \"delta_phi\") you give the mean secify that the mean coordinates the same number of dimensions per axis as the number of cells in each axial direction. Below is an illustration of the situation:\n",
    "\n",
    "<img src=\"Cell_visualization.png\">\n",
    "\n",
    "After defining the vertices of the grid at the point where the parameters are actually defined it is possible to do an interpolation such that we get interpolated parameter values at cartesian grid points. The motivation for doing such an interpolation is the simplicity of calculating gradients. The result of the interpolation is equidistant gridpoints in a 3D cartesian grid. This makes it very simple to calculate gradients etc. This is highly non-trivial in the $(r, \\theta, \\phi)$-mesh."
   ]
  },
  {
   "cell_type": "code",
   "execution_count": null,
   "metadata": {},
   "outputs": [],
   "source": [
    "R = ds.R_bounds.mean(dim=(\"delta_r\", \"delta_theta\", \"delta_phi\"))\n",
    "z = ds.z_bounds.mean(dim=(\"delta_r\", \"delta_theta\", \"delta_phi\"))\n",
    "phi = ds.phi_bounds.mean(dim=\"delta_phi\")\n",
    "x = R * np.cos(phi)\n",
    "y = R * np.sin(phi)\n",
    "x, ds.Te"
   ]
  },
  {
   "cell_type": "code",
   "execution_count": null,
   "metadata": {},
   "outputs": [],
   "source": [
    "x.shape\n",
    "tot_grid_points = x.shape[0]*x.shape[1]*x.shape[2]\n",
    "print(\"Total number of gridpoints in the W7X gridstructure is \", tot_grid_points)"
   ]
  },
  {
   "cell_type": "markdown",
   "metadata": {},
   "source": [
    "## Use of NaN values in the parameter mesh\n",
    "\n",
    "Not all gridcells have a defined parameter value attached to it. This is mostly the outer and inner region of the machine where the values of many parameter has been left out because this is not the regions where the interesting physics happen.\n",
    "This is illustrated in the above plot example of the electron temperature $T_e$. In the cell below you can se how large a fraction of the total number of gridpoints the parameter mesh for the electron temperature that has NaN as a value."
   ]
  },
  {
   "cell_type": "code",
   "execution_count": null,
   "metadata": {},
   "outputs": [],
   "source": [
    "n_nans_Te = int(list(np.where(np.isnan(np.asarray(ds.Te)) == True)[0].shape)[0])\n",
    "print(\"How many nans in the Te mesh? \", np.where(np.isnan(np.asarray(ds.Te)) == True)[0].shape)\n",
    "print(\"Fraction of nans with respect to gridpoints \", n_nans_Te/tot_grid_points)"
   ]
  },
  {
   "cell_type": "code",
   "execution_count": null,
   "metadata": {},
   "outputs": [],
   "source": [
    "np.asarray(ds.Te).shape"
   ]
  },
  {
   "cell_type": "markdown",
   "metadata": {},
   "source": [
    "## Grid\n",
    "\n",
    "In the cell below there is an interactive plot of the grid. You can use the slider to iterate through all toroidal slices(all $\\phi$ angles)."
   ]
  },
  {
   "cell_type": "code",
   "execution_count": null,
   "metadata": {},
   "outputs": [],
   "source": [
    "import ipywidgets as widgets\n",
    "from ipywidgets import interact, interactive, fixed, interact_manual\n",
    "def plot_emc3grid(ip):\n",
    "    plt.figure(figsize=(15,15))\n",
    "    ds.emc3.plot_Rz(None, phi=ds.coords['phi_bounds'][ip][0])\n",
    "ip = widgets.IntSlider(min = 0, max = 35, value = 0)\n",
    "interact(plot_emc3grid, ip = ip)"
   ]
  },
  {
   "cell_type": "markdown",
   "metadata": {},
   "source": [
    "## Grid with boundaries\n",
    "\n",
    "Interactive plot of the grid, here you can use the ip slider to iterate through all toroidal slices(all phi angles),\n",
    "the rmin and rmax to set the boundaries in r direction, and the zmin and zmax to set the boundaries in z direction."
   ]
  },
  {
   "cell_type": "code",
   "execution_count": null,
   "metadata": {
    "scrolled": false
   },
   "outputs": [],
   "source": [
    "# find boundaries of the grid\n",
    "rmin = np.min(np.asarray(R))\n",
    "rmax = np.max(np.asarray(R))\n",
    "zmin = np.min(np.asarray(z))\n",
    "zmax = np.max(np.asarray(z))\n",
    "\n",
    "import ipywidgets as widgets\n",
    "from ipywidgets import interact, interactive, fixed, interact_manual\n",
    "def plot_emc3grid(ip, rmin, rmax, zmin, zmax):\n",
    "    plt.figure(figsize=(100,100))\n",
    "    ds.emc3.plot_Rz('Te', phi=ds.coords['phi_bounds'][ip][0], Rmin = rmin, Rmax = rmax, zmin = zmin, zmax = zmax)\n",
    "ip = widgets.IntSlider(min = 0, max = 35, value = 0)\n",
    "rmin_slider = widgets.FloatSlider(min = rmin, max = rmax, value = rmin, readout_format='.9f')\n",
    "rmax_slider = widgets.FloatSlider(min = rmin, max = rmax, value =rmax, readout_format='.9f')\n",
    "zmin_slider = widgets.FloatSlider(min = zmin, max = zmax, value = zmin, readout_format='.9f')\n",
    "zmax_slider = widgets.FloatSlider(min = zmin, max = zmax, value = zmax, readout_format='.9f')\n",
    "interact(plot_emc3grid, ip = ip, rmin = rmin_slider, rmax = rmax_slider, zmin = zmin_slider, zmax = zmax_slider)"
   ]
  },
  {
   "cell_type": "code",
   "execution_count": null,
   "metadata": {},
   "outputs": [],
   "source": [
    "idx_zmin = np.where(np.isclose(-0.77468, np.asarray(z), rtol = 1e-6) == True)[0]\n",
    "idx_zmax = np.where(np.isclose(0.82532, np.asarray(z), rtol = 5e-7) == True)[0]\n",
    "idx_rmin = np.where(np.isclose(5.65635, np.asarray(R), rtol = 1e-9) == True)[0]\n",
    "idx_rmax = np.where(np.isclose(5.85635, np.asarray(R), rtol = 1e-7) == True)[0]\n",
    "\n",
    "print(idx_zmin, idx_zmax, idx_rmin, idx_rmax)"
   ]
  },
  {
   "cell_type": "code",
   "execution_count": null,
   "metadata": {},
   "outputs": [],
   "source": [
    "def plot_Te_zoomed(ip):\n",
    "    fig = plt.figure()\n",
    "    ax = fig.add_subplot()\n",
    "    c = plt.contourf(R[50:60, 450:460,ip],\n",
    "                     z[50:60, 450:460,ip], \n",
    "                     np.array(ds.Te[50:60, 450:460,ip]))\n",
    "    plt.colorbar(c)\n",
    "phislider = widgets.IntSlider(min = 0, max = 35)\n",
    "interact(plot_Te_zoomed, ip = phislider)"
   ]
  }
 ],
 "metadata": {
  "kernelspec": {
   "display_name": "Python 3",
   "language": "python",
   "name": "python3"
  },
  "language_info": {
   "codemirror_mode": {
    "name": "ipython",
    "version": 3
   },
   "file_extension": ".py",
   "mimetype": "text/x-python",
   "name": "python",
   "nbconvert_exporter": "python",
   "pygments_lexer": "ipython3",
   "version": "3.9.6"
  }
 },
 "nbformat": 4,
 "nbformat_minor": 5
}
